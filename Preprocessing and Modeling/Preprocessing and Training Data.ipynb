{
 "cells": [
  {
   "cell_type": "markdown",
   "id": "8864d136",
   "metadata": {},
   "source": [
    "## Importing Libraries and Data"
   ]
  },
  {
   "cell_type": "code",
   "execution_count": 18,
   "id": "fa620998",
   "metadata": {},
   "outputs": [],
   "source": [
    "import os\n",
    "import pandas as pd\n",
    "import numpy as np\n",
    "from scipy import stats\n",
    "from sklearn.metrics import r2_score, mean_squared_error\n",
    "from sklearn.model_selection import train_test_split\n",
    "from sklearn.linear_model import LinearRegression\n",
    "lr=LinearRegression()\n",
    "from sklearn.linear_model import Ridge \n",
    "rig=Ridge()\n",
    "from sklearn.linear_model import Lasso\n",
    "la=Lasso()\n",
    "from sklearn.linear_model import ElasticNet\n",
    "en=ElasticNet()\n",
    "from matplotlib import pyplot as plt\n",
    "import seaborn as sbn \n",
    "%matplotlib inline"
   ]
  },
  {
   "cell_type": "code",
   "execution_count": 19,
   "id": "23d5b97e",
   "metadata": {},
   "outputs": [],
   "source": [
    "df=pd.read_csv('Data/datafile_final.csv')"
   ]
  },
  {
   "cell_type": "code",
   "execution_count": 20,
   "id": "f3c383de",
   "metadata": {},
   "outputs": [
    {
     "data": {
      "text/html": [
       "<div>\n",
       "<style scoped>\n",
       "    .dataframe tbody tr th:only-of-type {\n",
       "        vertical-align: middle;\n",
       "    }\n",
       "\n",
       "    .dataframe tbody tr th {\n",
       "        vertical-align: top;\n",
       "    }\n",
       "\n",
       "    .dataframe thead th {\n",
       "        text-align: right;\n",
       "    }\n",
       "</style>\n",
       "<table border=\"1\" class=\"dataframe\">\n",
       "  <thead>\n",
       "    <tr style=\"text-align: right;\">\n",
       "      <th></th>\n",
       "      <th>Order</th>\n",
       "      <th>MS.SubClass</th>\n",
       "      <th>MS.Zoning</th>\n",
       "      <th>Lot.Frontage</th>\n",
       "      <th>Lot.Area</th>\n",
       "      <th>Street</th>\n",
       "      <th>Alley</th>\n",
       "      <th>Lot.Shape</th>\n",
       "      <th>Land.Contour</th>\n",
       "      <th>Utilities</th>\n",
       "      <th>...</th>\n",
       "      <th>Wood.Deck.SF</th>\n",
       "      <th>Open.Porch.SF</th>\n",
       "      <th>Enclosed.Porch</th>\n",
       "      <th>X3Ssn.Porch</th>\n",
       "      <th>Screen.Porch</th>\n",
       "      <th>Mo.Sold</th>\n",
       "      <th>Yr.Sold</th>\n",
       "      <th>Sale.Type</th>\n",
       "      <th>Sale.Condition</th>\n",
       "      <th>SalePrice</th>\n",
       "    </tr>\n",
       "  </thead>\n",
       "  <tbody>\n",
       "    <tr>\n",
       "      <th>0</th>\n",
       "      <td>1</td>\n",
       "      <td>20</td>\n",
       "      <td>RL</td>\n",
       "      <td>141.0</td>\n",
       "      <td>31770</td>\n",
       "      <td>Pave</td>\n",
       "      <td>Noal</td>\n",
       "      <td>IR1</td>\n",
       "      <td>Lvl</td>\n",
       "      <td>AllPub</td>\n",
       "      <td>...</td>\n",
       "      <td>210</td>\n",
       "      <td>62</td>\n",
       "      <td>0</td>\n",
       "      <td>0</td>\n",
       "      <td>0</td>\n",
       "      <td>5</td>\n",
       "      <td>2010</td>\n",
       "      <td>WD</td>\n",
       "      <td>Normal</td>\n",
       "      <td>215000</td>\n",
       "    </tr>\n",
       "    <tr>\n",
       "      <th>1</th>\n",
       "      <td>2</td>\n",
       "      <td>20</td>\n",
       "      <td>RH</td>\n",
       "      <td>80.0</td>\n",
       "      <td>11622</td>\n",
       "      <td>Pave</td>\n",
       "      <td>Noal</td>\n",
       "      <td>Reg</td>\n",
       "      <td>Lvl</td>\n",
       "      <td>AllPub</td>\n",
       "      <td>...</td>\n",
       "      <td>140</td>\n",
       "      <td>0</td>\n",
       "      <td>0</td>\n",
       "      <td>0</td>\n",
       "      <td>120</td>\n",
       "      <td>6</td>\n",
       "      <td>2010</td>\n",
       "      <td>WD</td>\n",
       "      <td>Normal</td>\n",
       "      <td>105000</td>\n",
       "    </tr>\n",
       "    <tr>\n",
       "      <th>2</th>\n",
       "      <td>3</td>\n",
       "      <td>20</td>\n",
       "      <td>RL</td>\n",
       "      <td>81.0</td>\n",
       "      <td>14267</td>\n",
       "      <td>Pave</td>\n",
       "      <td>Noal</td>\n",
       "      <td>IR1</td>\n",
       "      <td>Lvl</td>\n",
       "      <td>AllPub</td>\n",
       "      <td>...</td>\n",
       "      <td>393</td>\n",
       "      <td>36</td>\n",
       "      <td>0</td>\n",
       "      <td>0</td>\n",
       "      <td>0</td>\n",
       "      <td>6</td>\n",
       "      <td>2010</td>\n",
       "      <td>WD</td>\n",
       "      <td>Normal</td>\n",
       "      <td>172000</td>\n",
       "    </tr>\n",
       "    <tr>\n",
       "      <th>3</th>\n",
       "      <td>4</td>\n",
       "      <td>20</td>\n",
       "      <td>RL</td>\n",
       "      <td>93.0</td>\n",
       "      <td>11160</td>\n",
       "      <td>Pave</td>\n",
       "      <td>Noal</td>\n",
       "      <td>Reg</td>\n",
       "      <td>Lvl</td>\n",
       "      <td>AllPub</td>\n",
       "      <td>...</td>\n",
       "      <td>0</td>\n",
       "      <td>0</td>\n",
       "      <td>0</td>\n",
       "      <td>0</td>\n",
       "      <td>0</td>\n",
       "      <td>4</td>\n",
       "      <td>2010</td>\n",
       "      <td>WD</td>\n",
       "      <td>Normal</td>\n",
       "      <td>244000</td>\n",
       "    </tr>\n",
       "    <tr>\n",
       "      <th>4</th>\n",
       "      <td>5</td>\n",
       "      <td>60</td>\n",
       "      <td>RL</td>\n",
       "      <td>74.0</td>\n",
       "      <td>13830</td>\n",
       "      <td>Pave</td>\n",
       "      <td>Noal</td>\n",
       "      <td>IR1</td>\n",
       "      <td>Lvl</td>\n",
       "      <td>AllPub</td>\n",
       "      <td>...</td>\n",
       "      <td>212</td>\n",
       "      <td>34</td>\n",
       "      <td>0</td>\n",
       "      <td>0</td>\n",
       "      <td>0</td>\n",
       "      <td>3</td>\n",
       "      <td>2010</td>\n",
       "      <td>WD</td>\n",
       "      <td>Normal</td>\n",
       "      <td>189900</td>\n",
       "    </tr>\n",
       "  </tbody>\n",
       "</table>\n",
       "<p>5 rows × 75 columns</p>\n",
       "</div>"
      ],
      "text/plain": [
       "   Order  MS.SubClass MS.Zoning  Lot.Frontage  Lot.Area Street Alley  \\\n",
       "0      1           20        RL         141.0     31770   Pave  Noal   \n",
       "1      2           20        RH          80.0     11622   Pave  Noal   \n",
       "2      3           20        RL          81.0     14267   Pave  Noal   \n",
       "3      4           20        RL          93.0     11160   Pave  Noal   \n",
       "4      5           60        RL          74.0     13830   Pave  Noal   \n",
       "\n",
       "  Lot.Shape Land.Contour Utilities  ... Wood.Deck.SF Open.Porch.SF  \\\n",
       "0       IR1          Lvl    AllPub  ...          210            62   \n",
       "1       Reg          Lvl    AllPub  ...          140             0   \n",
       "2       IR1          Lvl    AllPub  ...          393            36   \n",
       "3       Reg          Lvl    AllPub  ...            0             0   \n",
       "4       IR1          Lvl    AllPub  ...          212            34   \n",
       "\n",
       "  Enclosed.Porch X3Ssn.Porch Screen.Porch Mo.Sold Yr.Sold  Sale.Type  \\\n",
       "0              0           0            0       5    2010        WD    \n",
       "1              0           0          120       6    2010        WD    \n",
       "2              0           0            0       6    2010        WD    \n",
       "3              0           0            0       4    2010        WD    \n",
       "4              0           0            0       3    2010        WD    \n",
       "\n",
       "   Sale.Condition  SalePrice  \n",
       "0          Normal     215000  \n",
       "1          Normal     105000  \n",
       "2          Normal     172000  \n",
       "3          Normal     244000  \n",
       "4          Normal     189900  \n",
       "\n",
       "[5 rows x 75 columns]"
      ]
     },
     "execution_count": 20,
     "metadata": {},
     "output_type": "execute_result"
    }
   ],
   "source": [
    "df.head()"
   ]
  },
  {
   "cell_type": "code",
   "execution_count": 21,
   "id": "048d8d25",
   "metadata": {},
   "outputs": [],
   "source": [
    "df.drop('Order', axis=1, inplace=True)"
   ]
  },
  {
   "cell_type": "markdown",
   "id": "06b9e6e0",
   "metadata": {},
   "source": [
    "# Preprocessing \n",
    "### Looking at the distribution of SalePrice\n",
    "Fixing the skewness of SalePrice also confirming that SalePrice is skewed.  "
   ]
  },
  {
   "cell_type": "code",
   "execution_count": 23,
   "id": "878b3648",
   "metadata": {
    "scrolled": true
   },
   "outputs": [
    {
     "data": {
      "text/plain": [
       "<AxesSubplot:>"
      ]
     },
     "execution_count": 23,
     "metadata": {},
     "output_type": "execute_result"
    },
    {
     "data": {
      "image/png": "[encoded data removed]",
      "text/plain": [
       "<Figure size 432x288 with 1 Axes>"
      ]
     },
     "metadata": {
      "needs_background": "light"
     },
     "output_type": "display_data"
    }
   ],
   "source": [
    "df.SalePrice.hist()"
   ]
  },
  {
   "cell_type": "code",
   "execution_count": 24,
   "id": "6cfb44e6",
   "metadata": {},
   "outputs": [
    {
     "data": {
      "text/plain": [
       "2.4102333586386854e-43"
      ]
     },
     "execution_count": 24,
     "metadata": {},
     "output_type": "execute_result"
    }
   ],
   "source": [
    "# confirming that the distribution is skewe\n",
    "resp=df.SalePrice\n",
    "from scipy.stats import shapiro\n",
    "shapiro(resp)[1]"
   ]
  },
  {
   "cell_type": "markdown",
   "id": "0d0878f9",
   "metadata": {},
   "source": [
    "Since our shapiro numbber is extremely less than .05 we can determine that the distribution is not normal.  "
   ]
  },
  {
   "cell_type": "markdown",
   "id": "b74b0672",
   "metadata": {},
   "source": [
    "Taking the square root looks like the best way to correct the skewness"
   ]
  },
  {
   "cell_type": "code",
   "execution_count": 25,
   "id": "83bfb9ea",
   "metadata": {
    "scrolled": true
   },
   "outputs": [
    {
     "name": "stderr",
     "output_type": "stream",
     "text": [
      "/Users/andreafung/opt/anaconda3/envs/springboard/lib/python3.8/site-packages/seaborn/distributions.py:2557: FutureWarning: `distplot` is a deprecated function and will be removed in a future version. Please adapt your code to use either `displot` (a figure-level function with similar flexibility) or `histplot` (an axes-level function for histograms).\n",
      "  warnings.warn(msg, FutureWarning)\n"
     ]
    },
    {
     "data": {
      "text/plain": [
       "<AxesSubplot:xlabel='SalePrice', ylabel='Density'>"
      ]
     },
     "execution_count": 25,
     "metadata": {},
     "output_type": "execute_result"
    },
    {
     "data": {
      "image/png": "[encoded data removed]",
      "text/plain": [
       "<Figure size 432x288 with 1 Axes>"
      ]
     },
     "metadata": {
      "needs_background": "light"
     },
     "output_type": "display_data"
    }
   ],
   "source": [
    "recip=resp**(.5)\n",
    "sbn.distplot(recip)"
   ]
  },
  {
   "cell_type": "code",
   "execution_count": 27,
   "id": "1168063a",
   "metadata": {},
   "outputs": [],
   "source": [
    "df['SalePrice']=recip"
   ]
  },
  {
   "cell_type": "code",
   "execution_count": 28,
   "id": "b3c67581",
   "metadata": {},
   "outputs": [
    {
     "data": {
      "text/plain": [
       "0       463.680925\n",
       "1       324.037035\n",
       "2       414.728827\n",
       "3       493.963561\n",
       "4       435.775171\n",
       "           ...    \n",
       "2924    377.491722\n",
       "2925    361.939221\n",
       "2926    363.318042\n",
       "2927    412.310563\n",
       "2928    433.589668\n",
       "Name: SalePrice, Length: 2929, dtype: float64"
      ]
     },
     "execution_count": 28,
     "metadata": {},
     "output_type": "execute_result"
    }
   ],
   "source": [
    "df['SalePrice']"
   ]
  },
  {
   "cell_type": "markdown",
   "id": "9ffd1149",
   "metadata": {},
   "source": [
    "###  Creating Dummie variables\n",
    "Creating dummie variables with all the categorical variables"
   ]
  },
  {
   "cell_type": "markdown",
   "id": "28c61303",
   "metadata": {},
   "source": [
    "Moving SalePrice to the first column"
   ]
  },
  {
   "cell_type": "code",
   "execution_count": 29,
   "id": "1e3622cd",
   "metadata": {
    "scrolled": true
   },
   "outputs": [
    {
     "name": "stdout",
     "output_type": "stream",
     "text": [
      "<class 'pandas.core.frame.DataFrame'>\n",
      "RangeIndex: 2929 entries, 0 to 2928\n",
      "Data columns (total 74 columns):\n",
      " #   Column           Non-Null Count  Dtype  \n",
      "---  ------           --------------  -----  \n",
      " 0   MS.SubClass      2929 non-null   int64  \n",
      " 1   MS.Zoning        2929 non-null   object \n",
      " 2   Lot.Frontage     2929 non-null   float64\n",
      " 3   Lot.Area         2929 non-null   int64  \n",
      " 4   Street           2929 non-null   object \n",
      " 5   Alley            2929 non-null   object \n",
      " 6   Lot.Shape        2929 non-null   object \n",
      " 7   Land.Contour     2929 non-null   object \n",
      " 8   Utilities        2929 non-null   object \n",
      " 9   Lot.Config       2929 non-null   object \n",
      " 10  Land.Slope       2929 non-null   object \n",
      " 11  Neighborhood     2929 non-null   object \n",
      " 12  Condition.1      2929 non-null   object \n",
      " 13  Condition.2      2929 non-null   object \n",
      " 14  Bldg.Type        2929 non-null   object \n",
      " 15  House.Style      2929 non-null   object \n",
      " 16  Overall.Cond     2929 non-null   int64  \n",
      " 17  Year.Built       2929 non-null   int64  \n",
      " 18  Year.Remod.Add   2929 non-null   int64  \n",
      " 19  Roof.Style       2929 non-null   object \n",
      " 20  Roof.Matl        2929 non-null   object \n",
      " 21  Exterior.1st     2929 non-null   object \n",
      " 22  Exterior.2nd     2929 non-null   object \n",
      " 23  Mas.Vnr.Type     2929 non-null   object \n",
      " 24  Mas.Vnr.Area     2929 non-null   float64\n",
      " 25  Exter.Qual       2929 non-null   object \n",
      " 26  Exter.Cond       2929 non-null   object \n",
      " 27  Foundation       2929 non-null   object \n",
      " 28  Bsmt.Qual        2929 non-null   object \n",
      " 29  Bsmt.Cond        2929 non-null   object \n",
      " 30  Bsmt.Exposure    2929 non-null   object \n",
      " 31  BsmtFin.Type.1   2929 non-null   object \n",
      " 32  BsmtFin.SF.1     2929 non-null   float64\n",
      " 33  BsmtFin.Type.2   2929 non-null   object \n",
      " 34  BsmtFin.SF.2     2929 non-null   float64\n",
      " 35  Bsmt.Unf.SF      2929 non-null   float64\n",
      " 36  Total.Bsmt.SF    2929 non-null   float64\n",
      " 37  Heating          2929 non-null   object \n",
      " 38  Heating.QC       2929 non-null   object \n",
      " 39  Central.Air      2929 non-null   object \n",
      " 40  Electrical       2928 non-null   object \n",
      " 41  X1st.Flr.SF      2929 non-null   int64  \n",
      " 42  X2nd.Flr.SF      2929 non-null   int64  \n",
      " 43  Low.Qual.Fin.SF  2929 non-null   int64  \n",
      " 44  Gr.Liv.Area      2929 non-null   int64  \n",
      " 45  Bsmt.Full.Bath   2929 non-null   float64\n",
      " 46  Bsmt.Half.Bath   2929 non-null   float64\n",
      " 47  Full.Bath        2929 non-null   int64  \n",
      " 48  Half.Bath        2929 non-null   int64  \n",
      " 49  Bedroom.AbvGr    2929 non-null   int64  \n",
      " 50  Kitchen.AbvGr    2929 non-null   int64  \n",
      " 51  Kitchen.Qual     2929 non-null   object \n",
      " 52  TotRms.AbvGrd    2929 non-null   int64  \n",
      " 53  Functional       2929 non-null   object \n",
      " 54  Fireplaces       2929 non-null   int64  \n",
      " 55  Fireplace.Qu     2929 non-null   object \n",
      " 56  Garage.Type      2929 non-null   object \n",
      " 57  Garage.Yr.Blt    2929 non-null   float64\n",
      " 58  Garage.Finish    2929 non-null   object \n",
      " 59  Garage.Cars      2929 non-null   float64\n",
      " 60  Garage.Area      2929 non-null   float64\n",
      " 61  Garage.Qual      2929 non-null   object \n",
      " 62  Garage.Cond      2929 non-null   object \n",
      " 63  Paved.Drive      2929 non-null   object \n",
      " 64  Wood.Deck.SF     2929 non-null   int64  \n",
      " 65  Open.Porch.SF    2929 non-null   int64  \n",
      " 66  Enclosed.Porch   2929 non-null   int64  \n",
      " 67  X3Ssn.Porch      2929 non-null   int64  \n",
      " 68  Screen.Porch     2929 non-null   int64  \n",
      " 69  Mo.Sold          2929 non-null   int64  \n",
      " 70  Yr.Sold          2929 non-null   int64  \n",
      " 71  Sale.Type        2929 non-null   object \n",
      " 72  Sale.Condition   2929 non-null   object \n",
      " 73  SalePrice        2929 non-null   float64\n",
      "dtypes: float64(12), int64(22), object(40)\n",
      "memory usage: 1.7+ MB\n"
     ]
    }
   ],
   "source": [
    "df.info()"
   ]
  },
  {
   "cell_type": "code",
   "execution_count": 72,
   "id": "9b61e58b",
   "metadata": {},
   "outputs": [],
   "source": [
    "ddf=df.copy()"
   ]
  },
  {
   "cell_type": "code",
   "execution_count": 73,
   "id": "237c299c",
   "metadata": {},
   "outputs": [
    {
     "data": {
      "text/plain": [
       "0       463.680925\n",
       "1       324.037035\n",
       "2       414.728827\n",
       "3       493.963561\n",
       "4       435.775171\n",
       "           ...    \n",
       "2924    377.491722\n",
       "2925    361.939221\n",
       "2926    363.318042\n",
       "2927    412.310563\n",
       "2928    433.589668\n",
       "Name: SalePrice, Length: 2929, dtype: float64"
      ]
     },
     "execution_count": 73,
     "metadata": {},
     "output_type": "execute_result"
    }
   ],
   "source": [
    "ddf['SalePrice']"
   ]
  },
  {
   "cell_type": "code",
   "execution_count": 74,
   "id": "262b0f8b",
   "metadata": {
    "scrolled": false
   },
   "outputs": [],
   "source": [
    "sp=ddf['SalePrice']\n",
    "ddf.drop(labels=['SalePrice'], axis=1, inplace = True)\n",
    "ddf.insert(0,'SalePrice',sp)"
   ]
  },
  {
   "cell_type": "code",
   "execution_count": 84,
   "id": "4d630d54",
   "metadata": {},
   "outputs": [],
   "source": [
    "#changing all objects into categories\n",
    "ddf[ddf.select_dtypes(['object']).columns] = ddf.select_dtypes(['object']).apply(lambda x: x.astype('category'))"
   ]
  },
  {
   "cell_type": "code",
   "execution_count": 85,
   "id": "e7c9c80e",
   "metadata": {
    "scrolled": true
   },
   "outputs": [
    {
     "name": "stdout",
     "output_type": "stream",
     "text": [
      "<class 'pandas.core.frame.DataFrame'>\n",
      "RangeIndex: 2929 entries, 0 to 2928\n",
      "Data columns (total 74 columns):\n",
      " #   Column           Non-Null Count  Dtype   \n",
      "---  ------           --------------  -----   \n",
      " 0   SalePrice        2929 non-null   float64 \n",
      " 1   MS.SubClass      2929 non-null   int64   \n",
      " 2   MS.Zoning        2929 non-null   category\n",
      " 3   Lot.Frontage     2929 non-null   float64 \n",
      " 4   Lot.Area         2929 non-null   int64   \n",
      " 5   Street           2929 non-null   category\n",
      " 6   Alley            2929 non-null   category\n",
      " 7   Lot.Shape        2929 non-null   category\n",
      " 8   Land.Contour     2929 non-null   category\n",
      " 9   Utilities        2929 non-null   category\n",
      " 10  Lot.Config       2929 non-null   category\n",
      " 11  Land.Slope       2929 non-null   category\n",
      " 12  Neighborhood     2929 non-null   category\n",
      " 13  Condition.1      2929 non-null   category\n",
      " 14  Condition.2      2929 non-null   category\n",
      " 15  Bldg.Type        2929 non-null   category\n",
      " 16  House.Style      2929 non-null   category\n",
      " 17  Overall.Cond     2929 non-null   int64   \n",
      " 18  Year.Built       2929 non-null   int64   \n",
      " 19  Year.Remod.Add   2929 non-null   int64   \n",
      " 20  Roof.Style       2929 non-null   category\n",
      " 21  Roof.Matl        2929 non-null   category\n",
      " 22  Exterior.1st     2929 non-null   category\n",
      " 23  Exterior.2nd     2929 non-null   category\n",
      " 24  Mas.Vnr.Type     2929 non-null   category\n",
      " 25  Mas.Vnr.Area     2929 non-null   float64 \n",
      " 26  Exter.Qual       2929 non-null   category\n",
      " 27  Exter.Cond       2929 non-null   category\n",
      " 28  Foundation       2929 non-null   category\n",
      " 29  Bsmt.Qual        2929 non-null   category\n",
      " 30  Bsmt.Cond        2929 non-null   category\n",
      " 31  Bsmt.Exposure    2929 non-null   category\n",
      " 32  BsmtFin.Type.1   2929 non-null   category\n",
      " 33  BsmtFin.SF.1     2929 non-null   float64 \n",
      " 34  BsmtFin.Type.2   2929 non-null   category\n",
      " 35  BsmtFin.SF.2     2929 non-null   float64 \n",
      " 36  Bsmt.Unf.SF      2929 non-null   float64 \n",
      " 37  Total.Bsmt.SF    2929 non-null   float64 \n",
      " 38  Heating          2929 non-null   category\n",
      " 39  Heating.QC       2929 non-null   category\n",
      " 40  Central.Air      2929 non-null   category\n",
      " 41  Electrical       2928 non-null   category\n",
      " 42  X1st.Flr.SF      2929 non-null   int64   \n",
      " 43  X2nd.Flr.SF      2929 non-null   int64   \n",
      " 44  Low.Qual.Fin.SF  2929 non-null   int64   \n",
      " 45  Gr.Liv.Area      2929 non-null   int64   \n",
      " 46  Bsmt.Full.Bath   2929 non-null   float64 \n",
      " 47  Bsmt.Half.Bath   2929 non-null   float64 \n",
      " 48  Full.Bath        2929 non-null   int64   \n",
      " 49  Half.Bath        2929 non-null   int64   \n",
      " 50  Bedroom.AbvGr    2929 non-null   int64   \n",
      " 51  Kitchen.AbvGr    2929 non-null   int64   \n",
      " 52  Kitchen.Qual     2929 non-null   category\n",
      " 53  TotRms.AbvGrd    2929 non-null   int64   \n",
      " 54  Functional       2929 non-null   category\n",
      " 55  Fireplaces       2929 non-null   int64   \n",
      " 56  Fireplace.Qu     2929 non-null   category\n",
      " 57  Garage.Type      2929 non-null   category\n",
      " 58  Garage.Yr.Blt    2929 non-null   float64 \n",
      " 59  Garage.Finish    2929 non-null   category\n",
      " 60  Garage.Cars      2929 non-null   float64 \n",
      " 61  Garage.Area      2929 non-null   float64 \n",
      " 62  Garage.Qual      2929 non-null   category\n",
      " 63  Garage.Cond      2929 non-null   category\n",
      " 64  Paved.Drive      2929 non-null   category\n",
      " 65  Wood.Deck.SF     2929 non-null   int64   \n",
      " 66  Open.Porch.SF    2929 non-null   int64   \n",
      " 67  Enclosed.Porch   2929 non-null   int64   \n",
      " 68  X3Ssn.Porch      2929 non-null   int64   \n",
      " 69  Screen.Porch     2929 non-null   int64   \n",
      " 70  Mo.Sold          2929 non-null   int64   \n",
      " 71  Yr.Sold          2929 non-null   int64   \n",
      " 72  Sale.Type        2929 non-null   category\n",
      " 73  Sale.Condition   2929 non-null   category\n",
      "dtypes: category(40), float64(12), int64(22)\n",
      "memory usage: 903.9 KB\n"
     ]
    }
   ],
   "source": [
    "ddf.info()"
   ]
  },
  {
   "cell_type": "code",
   "execution_count": 86,
   "id": "102abba1",
   "metadata": {},
   "outputs": [],
   "source": [
    "df_dummie=pd.get_dummies(ddf,drop_first=True)"
   ]
  },
  {
   "cell_type": "markdown",
   "id": "54272e52",
   "metadata": {},
   "source": [
    "### Separating x and y variables"
   ]
  },
  {
   "cell_type": "code",
   "execution_count": 92,
   "id": "40881623",
   "metadata": {},
   "outputs": [],
   "source": [
    "# explanatory variable\n",
    "X=df_dummie.drop(['SalePrice'], axis=1)\n",
    "# response variable \n",
    "y=df_dummie.SalePrice"
   ]
  },
  {
   "cell_type": "markdown",
   "id": "a9b45ed7",
   "metadata": {},
   "source": [
    "### Creating Scaler objects"
   ]
  },
  {
   "cell_type": "code",
   "execution_count": 93,
   "id": "9fe62142",
   "metadata": {},
   "outputs": [],
   "source": [
    "from sklearn import preprocessing\n",
    "scaler=preprocessing.StandardScaler()"
   ]
  },
  {
   "cell_type": "code",
   "execution_count": 94,
   "id": "17180f57",
   "metadata": {
    "scrolled": true
   },
   "outputs": [],
   "source": [
    "#creating the scaled X variable\n",
    "scaled_x=scaler.fit_transform(X)"
   ]
  },
  {
   "cell_type": "code",
   "execution_count": 99,
   "id": "df50599d",
   "metadata": {},
   "outputs": [],
   "source": [
    "names=X.columns\n",
    "scaled_X=pd.DataFrame(scaled_x,columns=names)"
   ]
  },
  {
   "cell_type": "markdown",
   "id": "950072cb",
   "metadata": {},
   "source": [
    "## Splitting into training and test datasets"
   ]
  },
  {
   "cell_type": "code",
   "execution_count": 100,
   "id": "83f30cc5",
   "metadata": {},
   "outputs": [],
   "source": [
    "from sklearn.model_selection import train_test_split\n",
    "\n",
    "#create 1-dimensional flattened array to our response variable\n",
    "y=y.ravel()\n",
    "\n",
    "#cal the train_test_split() function with the first two parameters\n",
    "X_train, X_test, y_train, y_test = train_test_split(scaled_X, y, test_size=0.25, random_state=1)"
   ]
  },
  {
   "cell_type": "code",
   "execution_count": null,
   "id": "9fb645ad",
   "metadata": {},
   "outputs": [],
   "source": []
  }
 ],
 "metadata": {
  "kernelspec": {
   "display_name": "Python 3",
   "language": "python",
   "name": "python3"
  },
  "language_info": {
   "codemirror_mode": {
    "name": "ipython",
    "version": 3
   },
   "file_extension": ".py",
   "mimetype": "text/x-python",
   "name": "python",
   "nbconvert_exporter": "python",
   "pygments_lexer": "ipython3",
   "version": "3.8.10"
  }
 },
 "nbformat": 4,
 "nbformat_minor": 5
}
